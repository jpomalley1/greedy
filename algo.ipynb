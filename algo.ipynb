{
 "cells": [
  {
   "cell_type": "code",
   "execution_count": 4,
   "metadata": {},
   "outputs": [
    {
     "name": "stderr",
     "output_type": "stream",
     "text": [
      "2024-02-13 20:39:29.585982: I tensorflow/core/util/port.cc:113] oneDNN custom operations are on. You may see slightly different numerical results due to floating-point round-off errors from different computation orders. To turn them off, set the environment variable `TF_ENABLE_ONEDNN_OPTS=0`.\n",
      "2024-02-13 20:39:29.721964: E external/local_xla/xla/stream_executor/cuda/cuda_dnn.cc:9261] Unable to register cuDNN factory: Attempting to register factory for plugin cuDNN when one has already been registered\n",
      "2024-02-13 20:39:29.722017: E external/local_xla/xla/stream_executor/cuda/cuda_fft.cc:607] Unable to register cuFFT factory: Attempting to register factory for plugin cuFFT when one has already been registered\n",
      "2024-02-13 20:39:29.742968: E external/local_xla/xla/stream_executor/cuda/cuda_blas.cc:1515] Unable to register cuBLAS factory: Attempting to register factory for plugin cuBLAS when one has already been registered\n",
      "2024-02-13 20:39:29.785012: I tensorflow/core/platform/cpu_feature_guard.cc:182] This TensorFlow binary is optimized to use available CPU instructions in performance-critical operations.\n",
      "To enable the following instructions: AVX2 AVX512F AVX512_VNNI AVX512_BF16 FMA, in other operations, rebuild TensorFlow with the appropriate compiler flags.\n",
      "2024-02-13 20:39:30.334361: W tensorflow/compiler/tf2tensorrt/utils/py_utils.cc:38] TF-TRT Warning: Could not find TensorRT\n"
     ]
    }
   ],
   "source": [
    "import numpy as np\n",
    "import matplotlib.pyplot as plt\n",
    "import tensorflow as tf"
   ]
  },
  {
   "cell_type": "code",
   "execution_count": 14,
   "metadata": {},
   "outputs": [
    {
     "name": "stdout",
     "output_type": "stream",
     "text": [
      "Initial model prediction (mean of y): 0.49999353289604187\n",
      "Initial MSE: 0.08333720266819\n"
     ]
    }
   ],
   "source": [
    "\n",
    "\n",
    "class grad_initilization:\n",
    "    [tf.config.experimental.set_memory_growth(device, True) for device in tf.config.list_physical_devices('GPU')]\n",
    "    physical_devices = tf.config.list_physical_devices('GPU')\n",
    "    if physical_devices:\n",
    "        tf.config.experimental.set_memory_growth(physical_devices[0], True)\n",
    "    else:\n",
    "        raise RuntimeError(\"No GPU devices found.\")\n",
    "\n",
    "    \n",
    "    def __init__(self, loss_function='mse', physical_devices=0):\n",
    "        self.loss_function = loss_function\n",
    "        self.initial_prediction = None\n",
    "        self.physical_devices = physical_devices\n",
    "        \n",
    "    ### Find a good starting point for point. ie. initializing the gradient boosting alo\n",
    "    def target_mean(self, y):\n",
    "        return np.mean(y)\n",
    "\n",
    "    ### MSE = The squared error between the predicted value and the actual value\n",
    "    ### So when the algo guess guesses y for a given x, this measures how far off p is from y\n",
    "    def mse(self, y, p):\n",
    "        return np.mean((y - p)**2) \n",
    "\n",
    "    def startpoint_mse(self, y):\n",
    "        \"\"\"Initialize the gradient boosting model.\"\"\"\n",
    "        if self.loss_function == 'mse':\n",
    "            self.initial_prediction = self.target_mean(y)\n",
    "            print(f\"Initial model prediction (mean of y): {self.initial_prediction}\")\n",
    "            initial_mse = self.mse(y, self.initial_prediction)\n",
    "            print(f\"Initial MSE: {initial_mse}\")\n",
    "            return self.initial_prediction\n",
    "        else:\n",
    "            raise ValueError(\"Unsupported loss function. Currently, only 'mse' is implemented.\")\n",
    "        \n",
    "\n",
    "\n",
    "if __name__ == \"__main__\":\n",
    "    n = 4096\n",
    "    y = tf.random.uniform((n, n), dtype=float)\n",
    "    \n",
    "    # Initialize the gradient boosting model\n",
    "    gbm_initializer = grad_initilization()\n",
    "    gbm_initializer.startpoint_mse(y)"
   ]
  },
  {
   "cell_type": "code",
   "execution_count": 7,
   "metadata": {},
   "outputs": [],
   "source": [
    "import numpy as np\n",
    "\n",
    "N = 4096  # Size of the matrices\n",
    "A = np.random.rand(N, N)  # Create a N x N matrix A with random values\n",
    "B = np.random.rand(N, N)  # Create a N x N matrix B with random values\n",
    "\n",
    "C = A @ B  # Perform matrix multiplication\n",
    "# Due to the large size, it's not practical to print C. You might want to perform further operations here.\n"
   ]
  }
 ],
 "metadata": {
  "kernelspec": {
   "display_name": "tfenv",
   "language": "python",
   "name": "python3"
  },
  "language_info": {
   "codemirror_mode": {
    "name": "ipython",
    "version": 3
   },
   "file_extension": ".py",
   "mimetype": "text/x-python",
   "name": "python",
   "nbconvert_exporter": "python",
   "pygments_lexer": "ipython3",
   "version": "3.11.5"
  }
 },
 "nbformat": 4,
 "nbformat_minor": 2
}
