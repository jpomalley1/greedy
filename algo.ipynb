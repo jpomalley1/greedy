{
 "cells": [
  {
   "cell_type": "code",
   "execution_count": 1,
   "metadata": {},
   "outputs": [
    {
     "name": "stderr",
     "output_type": "stream",
     "text": [
      "2024-02-14 22:52:54.322035: I tensorflow/core/util/port.cc:113] oneDNN custom operations are on. You may see slightly different numerical results due to floating-point round-off errors from different computation orders. To turn them off, set the environment variable `TF_ENABLE_ONEDNN_OPTS=0`.\n",
      "2024-02-14 22:52:54.452542: E external/local_xla/xla/stream_executor/cuda/cuda_dnn.cc:9261] Unable to register cuDNN factory: Attempting to register factory for plugin cuDNN when one has already been registered\n",
      "2024-02-14 22:52:54.452582: E external/local_xla/xla/stream_executor/cuda/cuda_fft.cc:607] Unable to register cuFFT factory: Attempting to register factory for plugin cuFFT when one has already been registered\n",
      "2024-02-14 22:52:54.472727: E external/local_xla/xla/stream_executor/cuda/cuda_blas.cc:1515] Unable to register cuBLAS factory: Attempting to register factory for plugin cuBLAS when one has already been registered\n",
      "2024-02-14 22:52:54.513272: I tensorflow/core/platform/cpu_feature_guard.cc:182] This TensorFlow binary is optimized to use available CPU instructions in performance-critical operations.\n",
      "To enable the following instructions: AVX2 AVX512F AVX512_VNNI AVX512_BF16 FMA, in other operations, rebuild TensorFlow with the appropriate compiler flags.\n",
      "2024-02-14 22:52:55.087025: W tensorflow/compiler/tf2tensorrt/utils/py_utils.cc:38] TF-TRT Warning: Could not find TensorRT\n"
     ]
    }
   ],
   "source": [
    "import numpy as np\n",
    "import matplotlib.pyplot as plt\n",
    "import tensorflow as tf"
   ]
  },
  {
   "cell_type": "code",
   "execution_count": 7,
   "metadata": {},
   "outputs": [
    {
     "name": "stdout",
     "output_type": "stream",
     "text": [
      "Initial model prediction (mean of y): 0.5000036954879761\n",
      "Initial MSE: 0.08332838118076324\n"
     ]
    }
   ],
   "source": [
    "\n",
    "\n",
    "class grad_initilization:\n",
    "    [tf.config.experimental.set_memory_growth(device, True) for device in tf.config.list_physical_devices('GPU')]\n",
    "    physical_devices = tf.config.list_physical_devices('GPU')\n",
    "    if physical_devices:\n",
    "        tf.config.experimental.set_memory_growth(physical_devices[0], True)\n",
    "    else:\n",
    "        raise RuntimeError(\"No GPU devices found.\")\n",
    "\n",
    "    \n",
    "    def __init__(self, loss_function='mse', physical_devices=0):\n",
    "        self.loss_function = loss_function\n",
    "        self.initial_prediction = None\n",
    "        self.physical_devices = physical_devices\n",
    "        \n",
    "    ### Find a good starting point for point. ie. initializing the gradient boosting alo\n",
    "    def target_mean(self, y):\n",
    "        return np.mean(y)\n",
    "\n",
    "    ### MSE = The squared error between the predicted value and the actual value\n",
    "    ### So when the algo guess guesses y for a given x, this measures how far off p is from y\n",
    "    def mse(self, y, p):\n",
    "        return np.mean((y - p)**2) \n",
    "\n",
    "    def startpoint_mse(self, y):\n",
    "        \"\"\"Initialize the gradient boosting model.\"\"\"\n",
    "        if self.loss_function == 'mse':\n",
    "            self.initial_prediction = self.target_mean(y)\n",
    "            print(f\"Initial model prediction (mean of y): {self.initial_prediction}\")\n",
    "            initial_mse = self.mse(y, self.initial_prediction)\n",
    "            print(f\"Initial MSE: {initial_mse}\")\n",
    "            return self.initial_prediction\n",
    "        else:\n",
    "            raise ValueError(\"Unsupported loss function. Currently, only 'mse' is implemented.\")\n",
    "    \n",
    "    def mse(self, y, p):\n",
    "        if self.loss_function != 'mse':\n",
    "            raise ValueError(\"Unsupported loss function. Currently, only 'mse' is implemented.\")\n",
    "        else:\n",
    "            return np.mean((y - p)**2)\n",
    "    \n",
    "    def learner(self, X, residuals, max_depth=3, loss_function='mse', physical_devices=0, **kwargs):\n",
    "        \"\"\"Fit a decision tree to the residuals.\"\"\"\n",
    "        if self.loss_function != 'mse':\n",
    "            raise ValueError(\"Unsupported loss function. Currently, only 'mse' is implemented.\")\n",
    "        else:\n",
    "            tree = DecisionTreeRegressor(max_depth=self.max_depth)\n",
    "            tree.fit(X, residuals)\n",
    "            return tree\n",
    "            \n",
    "\n",
    "\n",
    "if __name__ == \"__main__\":\n",
    "    n = 4096\n",
    "    y = tf.random.uniform((n, n), dtype=float)\n",
    "    \n",
    "    # Initialize the gradient boosting model\n",
    "    gbm_initializer = grad_initilization()\n",
    "    gbm_initializer.startpoint_mse(y)"
   ]
  },
  {
   "cell_type": "code",
   "execution_count": 5,
   "metadata": {},
   "outputs": [],
   "source": [
    "def mse(self, y, p):\n",
    "    if self.loss_function != 'mse':\n",
    "        raise ValueError(\"Unsupported loss function. Currently, only 'mse' is implemented.\")\n",
    "    else:\n",
    "        return np.mean((y - p)**2)"
   ]
  },
  {
   "cell_type": "code",
   "execution_count": 6,
   "metadata": {},
   "outputs": [],
   "source": [
    "import numpy as np\n",
    "\n",
    "def best_split(X, y):\n",
    "    \"\"\"Find the best split for a node.\"\"\"\n",
    "    m, n = X.shape\n",
    "    if m <= 1:\n",
    "        return None, None\n",
    "    \n",
    "    # Current variance\n",
    "    best_mse = np.var(y)\n",
    "    best_idx, best_val = None, None\n",
    "    \n",
    "    for idx in range(n):  # for each feature\n",
    "        thresholds = np.unique(X[:, idx])\n",
    "        for t in thresholds:\n",
    "            left_idx = X[:, idx] < t\n",
    "            right_idx = X[:, idx] >= t\n",
    "            if np.sum(left_idx) == 0 or np.sum(right_idx) == 0:\n",
    "                continue\n",
    "            \n",
    "            left_mse = np.var(y[left_idx])\n",
    "            right_mse = np.var(y[right_idx])\n",
    "            mse = (np.sum(left_idx) * left_mse + np.sum(right_idx) * right_mse) / m\n",
    "            \n",
    "            if mse < best_mse:\n",
    "                best_mse = mse\n",
    "                best_idx = idx\n",
    "                best_val = t\n",
    "                \n",
    "    return best_idx, best_val\n"
   ]
  },
  {
   "cell_type": "code",
   "execution_count": null,
   "metadata": {},
   "outputs": [],
   "source": [
    "class TreeNode:\n",
    "    def __init__(self, X, y, idxs, depth=0, max_depth=3):\n",
    "        self.X = X\n",
    "        self.y = y\n",
    "        self.idxs = idxs\n",
    "        self.depth = depth\n",
    "        self.max_depth = max_depth\n",
    "        self.left = None\n",
    "        self.right = None\n",
    "        self.is_leaf = False\n",
    "        self.val = None\n",
    "        self.split_idx = None\n",
    "        self.split_val = None\n",
    "        \n",
    "        self._split()\n",
    "    \n",
    "    def _split(self):\n",
    "        if self.depth == self.max_depth or len(self.idxs) <= 1:\n",
    "            self.is_leaf = True\n",
    "            self.val = np.mean(self.y[self.idxs])\n",
    "            return\n",
    "        \n",
    "        split_idx, split_val = best_split(self.X[self.idxs], self.y[self.idxs])\n",
    "        if split_idx is None:\n",
    "            self.is_leaf = True\n",
    "            self.val = np.mean(self.y[self.idxs])\n",
    "            return\n",
    "        \n",
    "        self.split_idx = split_idx\n",
    "        self.split_val = split_val\n",
    "        \n",
    "        left_idxs = np.nonzero(self.X[self.idxs, split_idx] < split_val)[0]\n",
    "        right_idxs = np.nonzero(self.X[self.idxs, split_idx] >= split_val)[0]\n",
    "        \n",
    "        self.left = TreeNode(self.X, self.y, self.idxs[left_idxs], self.depth+1, self.max_depth)\n",
    "        self.right = TreeNode(self.X, self.y, self.idxs[right_idxs], self.depth+1, self.max_depth)\n",
    "    \n",
    "    def predict(self, x):\n",
    "        if self.is_leaf:\n",
    "            return self.val\n",
    "        elif x[self.split_idx] < self.split_val:\n",
    "            return self.left.predict(x)\n",
    "        else:\n",
    "            return self.right.predict(x)\n"
   ]
  },
  {
   "cell_type": "code",
   "execution_count": null,
   "metadata": {},
   "outputs": [],
   "source": [
    "class DecisionTreeRegressor:\n",
    "    def __init__(self, max_depth=3):\n",
    "        self.max_depth = max_depth\n",
    "        self.root = None\n",
    "    \n",
    "    def fit(self, X, y):\n",
    "        self.root = TreeNode(X, y, np.arange(len(y)), max_depth=self.max_depth)\n",
    "    \n",
    "    def predict(self, X):\n",
    "        return np.array([self.root.predict(x) for x in X])\n"
   ]
  },
  {
   "cell_type": "code",
   "execution_count": null,
   "metadata": {},
   "outputs": [],
   "source": [
    "def learner(self, X, residuals, max_depth=3, loss_function='mse'):\n",
    "    \"\"\"Fit a decision tree to the residuals.\"\"\"\n",
    "    if loss_function != 'mse':\n",
    "        raise ValueError(\"Unsupported loss function. Currently, only 'mse' is implemented.\")\n",
    "    \n",
    "    tree = DecisionTreeRegressor(max_depth=max_depth)\n",
    "    tree.fit(X, residuals)\n",
    "    return tree\n"
   ]
  }
 ],
 "metadata": {
  "kernelspec": {
   "display_name": "tfenv",
   "language": "python",
   "name": "python3"
  },
  "language_info": {
   "codemirror_mode": {
    "name": "ipython",
    "version": 3
   },
   "file_extension": ".py",
   "mimetype": "text/x-python",
   "name": "python",
   "nbconvert_exporter": "python",
   "pygments_lexer": "ipython3",
   "version": "3.11.5"
  }
 },
 "nbformat": 4,
 "nbformat_minor": 2
}
